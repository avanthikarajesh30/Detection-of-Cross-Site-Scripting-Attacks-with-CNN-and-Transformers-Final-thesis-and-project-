{
  "cells": [
    {
      "cell_type": "markdown",
      "metadata": {
        "id": "1K9QEotuHEed"
      },
      "source": [
        "### Import Libraries"
      ]
    },
    {
      "cell_type": "code",
      "execution_count": null,
      "metadata": {
        "id": "dhKpqZgqHEef"
      },
      "outputs": [],
      "source": [
        "import numpy as np\n",
        "import pandas as pd\n",
        "import glob\n",
        "import time\n",
        "import seaborn as sns\n",
        "# from xml.dom import minidom\n",
        "import os\n",
        "import matplotlib.pyplot as plt\n",
        "import keras\n",
        "import cv2"
      ]
    },
    {
      "cell_type": "code",
      "execution_count": null,
      "metadata": {
        "id": "T1KU2MKCHEeh"
      },
      "outputs": [],
      "source": [
        "df=pd.read_csv('XSS_dataset.csv', encoding='utf-8-sig')"
      ]
    },
    {
      "cell_type": "code",
      "execution_count": null,
      "metadata": {
        "id": "GUBvviIdHEeh",
        "outputId": "9394f8da-8db4-4586-8373-7bf92de1a821",
        "colab": {
          "base_uri": "https://localhost:8080/",
          "height": 206
        }
      },
      "outputs": [
        {
          "output_type": "execute_result",
          "data": {
            "text/plain": [
              "   Unnamed: 0                                           Sentence  Label\n",
              "0           0  <li><a href=\"/wiki/File:Socrates.png\" class=\"i...      0\n",
              "1           1               <tt onmouseover=\"alert(1)\">test</tt>      1\n",
              "2           2  \\t </span> <span class=\"reference-text\">Steeri...      0\n",
              "3           3  \\t </span> <span class=\"reference-text\"><cite ...      0\n",
              "4           4  \\t </span>. <a href=\"/wiki/Digital_object_iden...      0"
            ],
            "text/html": [
              "\n",
              "  <div id=\"df-874c0d3d-6e2b-4940-aa8d-3100ff43bb9f\">\n",
              "    <div class=\"colab-df-container\">\n",
              "      <div>\n",
              "<style scoped>\n",
              "    .dataframe tbody tr th:only-of-type {\n",
              "        vertical-align: middle;\n",
              "    }\n",
              "\n",
              "    .dataframe tbody tr th {\n",
              "        vertical-align: top;\n",
              "    }\n",
              "\n",
              "    .dataframe thead th {\n",
              "        text-align: right;\n",
              "    }\n",
              "</style>\n",
              "<table border=\"1\" class=\"dataframe\">\n",
              "  <thead>\n",
              "    <tr style=\"text-align: right;\">\n",
              "      <th></th>\n",
              "      <th>Unnamed: 0</th>\n",
              "      <th>Sentence</th>\n",
              "      <th>Label</th>\n",
              "    </tr>\n",
              "  </thead>\n",
              "  <tbody>\n",
              "    <tr>\n",
              "      <th>0</th>\n",
              "      <td>0</td>\n",
              "      <td>&lt;li&gt;&lt;a href=\"/wiki/File:Socrates.png\" class=\"i...</td>\n",
              "      <td>0</td>\n",
              "    </tr>\n",
              "    <tr>\n",
              "      <th>1</th>\n",
              "      <td>1</td>\n",
              "      <td>&lt;tt onmouseover=\"alert(1)\"&gt;test&lt;/tt&gt;</td>\n",
              "      <td>1</td>\n",
              "    </tr>\n",
              "    <tr>\n",
              "      <th>2</th>\n",
              "      <td>2</td>\n",
              "      <td>\\t &lt;/span&gt; &lt;span class=\"reference-text\"&gt;Steeri...</td>\n",
              "      <td>0</td>\n",
              "    </tr>\n",
              "    <tr>\n",
              "      <th>3</th>\n",
              "      <td>3</td>\n",
              "      <td>\\t &lt;/span&gt; &lt;span class=\"reference-text\"&gt;&lt;cite ...</td>\n",
              "      <td>0</td>\n",
              "    </tr>\n",
              "    <tr>\n",
              "      <th>4</th>\n",
              "      <td>4</td>\n",
              "      <td>\\t &lt;/span&gt;. &lt;a href=\"/wiki/Digital_object_iden...</td>\n",
              "      <td>0</td>\n",
              "    </tr>\n",
              "  </tbody>\n",
              "</table>\n",
              "</div>\n",
              "      <button class=\"colab-df-convert\" onclick=\"convertToInteractive('df-874c0d3d-6e2b-4940-aa8d-3100ff43bb9f')\"\n",
              "              title=\"Convert this dataframe to an interactive table.\"\n",
              "              style=\"display:none;\">\n",
              "        \n",
              "  <svg xmlns=\"http://www.w3.org/2000/svg\" height=\"24px\"viewBox=\"0 0 24 24\"\n",
              "       width=\"24px\">\n",
              "    <path d=\"M0 0h24v24H0V0z\" fill=\"none\"/>\n",
              "    <path d=\"M18.56 5.44l.94 2.06.94-2.06 2.06-.94-2.06-.94-.94-2.06-.94 2.06-2.06.94zm-11 1L8.5 8.5l.94-2.06 2.06-.94-2.06-.94L8.5 2.5l-.94 2.06-2.06.94zm10 10l.94 2.06.94-2.06 2.06-.94-2.06-.94-.94-2.06-.94 2.06-2.06.94z\"/><path d=\"M17.41 7.96l-1.37-1.37c-.4-.4-.92-.59-1.43-.59-.52 0-1.04.2-1.43.59L10.3 9.45l-7.72 7.72c-.78.78-.78 2.05 0 2.83L4 21.41c.39.39.9.59 1.41.59.51 0 1.02-.2 1.41-.59l7.78-7.78 2.81-2.81c.8-.78.8-2.07 0-2.86zM5.41 20L4 18.59l7.72-7.72 1.47 1.35L5.41 20z\"/>\n",
              "  </svg>\n",
              "      </button>\n",
              "      \n",
              "  <style>\n",
              "    .colab-df-container {\n",
              "      display:flex;\n",
              "      flex-wrap:wrap;\n",
              "      gap: 12px;\n",
              "    }\n",
              "\n",
              "    .colab-df-convert {\n",
              "      background-color: #E8F0FE;\n",
              "      border: none;\n",
              "      border-radius: 50%;\n",
              "      cursor: pointer;\n",
              "      display: none;\n",
              "      fill: #1967D2;\n",
              "      height: 32px;\n",
              "      padding: 0 0 0 0;\n",
              "      width: 32px;\n",
              "    }\n",
              "\n",
              "    .colab-df-convert:hover {\n",
              "      background-color: #E2EBFA;\n",
              "      box-shadow: 0px 1px 2px rgba(60, 64, 67, 0.3), 0px 1px 3px 1px rgba(60, 64, 67, 0.15);\n",
              "      fill: #174EA6;\n",
              "    }\n",
              "\n",
              "    [theme=dark] .colab-df-convert {\n",
              "      background-color: #3B4455;\n",
              "      fill: #D2E3FC;\n",
              "    }\n",
              "\n",
              "    [theme=dark] .colab-df-convert:hover {\n",
              "      background-color: #434B5C;\n",
              "      box-shadow: 0px 1px 3px 1px rgba(0, 0, 0, 0.15);\n",
              "      filter: drop-shadow(0px 1px 2px rgba(0, 0, 0, 0.3));\n",
              "      fill: #FFFFFF;\n",
              "    }\n",
              "  </style>\n",
              "\n",
              "      <script>\n",
              "        const buttonEl =\n",
              "          document.querySelector('#df-874c0d3d-6e2b-4940-aa8d-3100ff43bb9f button.colab-df-convert');\n",
              "        buttonEl.style.display =\n",
              "          google.colab.kernel.accessAllowed ? 'block' : 'none';\n",
              "\n",
              "        async function convertToInteractive(key) {\n",
              "          const element = document.querySelector('#df-874c0d3d-6e2b-4940-aa8d-3100ff43bb9f');\n",
              "          const dataTable =\n",
              "            await google.colab.kernel.invokeFunction('convertToInteractive',\n",
              "                                                     [key], {});\n",
              "          if (!dataTable) return;\n",
              "\n",
              "          const docLinkHtml = 'Like what you see? Visit the ' +\n",
              "            '<a target=\"_blank\" href=https://colab.research.google.com/notebooks/data_table.ipynb>data table notebook</a>'\n",
              "            + ' to learn more about interactive tables.';\n",
              "          element.innerHTML = '';\n",
              "          dataTable['output_type'] = 'display_data';\n",
              "          await google.colab.output.renderOutput(dataTable, element);\n",
              "          const docLink = document.createElement('div');\n",
              "          docLink.innerHTML = docLinkHtml;\n",
              "          element.appendChild(docLink);\n",
              "        }\n",
              "      </script>\n",
              "    </div>\n",
              "  </div>\n",
              "  "
            ]
          },
          "metadata": {},
          "execution_count": 5
        }
      ],
      "source": [
        "df.head()"
      ]
    },
    {
      "cell_type": "code",
      "execution_count": null,
      "metadata": {
        "id": "yCXQbB_mHEei"
      },
      "outputs": [],
      "source": [
        "df=df[df.columns[-2:]]  # Only get sentence and labels"
      ]
    },
    {
      "cell_type": "code",
      "execution_count": null,
      "metadata": {
        "id": "Nss1RUqOHEej",
        "outputId": "b577307d-2f90-4d16-fc87-d87435f338ec",
        "colab": {
          "base_uri": "https://localhost:8080/",
          "height": 206
        }
      },
      "outputs": [
        {
          "output_type": "execute_result",
          "data": {
            "text/plain": [
              "                                            Sentence  Label\n",
              "0  <li><a href=\"/wiki/File:Socrates.png\" class=\"i...      0\n",
              "1               <tt onmouseover=\"alert(1)\">test</tt>      1\n",
              "2  \\t </span> <span class=\"reference-text\">Steeri...      0\n",
              "3  \\t </span> <span class=\"reference-text\"><cite ...      0\n",
              "4  \\t </span>. <a href=\"/wiki/Digital_object_iden...      0"
            ],
            "text/html": [
              "\n",
              "  <div id=\"df-a6699a1f-898f-4049-8105-f4c6cdb8d254\">\n",
              "    <div class=\"colab-df-container\">\n",
              "      <div>\n",
              "<style scoped>\n",
              "    .dataframe tbody tr th:only-of-type {\n",
              "        vertical-align: middle;\n",
              "    }\n",
              "\n",
              "    .dataframe tbody tr th {\n",
              "        vertical-align: top;\n",
              "    }\n",
              "\n",
              "    .dataframe thead th {\n",
              "        text-align: right;\n",
              "    }\n",
              "</style>\n",
              "<table border=\"1\" class=\"dataframe\">\n",
              "  <thead>\n",
              "    <tr style=\"text-align: right;\">\n",
              "      <th></th>\n",
              "      <th>Sentence</th>\n",
              "      <th>Label</th>\n",
              "    </tr>\n",
              "  </thead>\n",
              "  <tbody>\n",
              "    <tr>\n",
              "      <th>0</th>\n",
              "      <td>&lt;li&gt;&lt;a href=\"/wiki/File:Socrates.png\" class=\"i...</td>\n",
              "      <td>0</td>\n",
              "    </tr>\n",
              "    <tr>\n",
              "      <th>1</th>\n",
              "      <td>&lt;tt onmouseover=\"alert(1)\"&gt;test&lt;/tt&gt;</td>\n",
              "      <td>1</td>\n",
              "    </tr>\n",
              "    <tr>\n",
              "      <th>2</th>\n",
              "      <td>\\t &lt;/span&gt; &lt;span class=\"reference-text\"&gt;Steeri...</td>\n",
              "      <td>0</td>\n",
              "    </tr>\n",
              "    <tr>\n",
              "      <th>3</th>\n",
              "      <td>\\t &lt;/span&gt; &lt;span class=\"reference-text\"&gt;&lt;cite ...</td>\n",
              "      <td>0</td>\n",
              "    </tr>\n",
              "    <tr>\n",
              "      <th>4</th>\n",
              "      <td>\\t &lt;/span&gt;. &lt;a href=\"/wiki/Digital_object_iden...</td>\n",
              "      <td>0</td>\n",
              "    </tr>\n",
              "  </tbody>\n",
              "</table>\n",
              "</div>\n",
              "      <button class=\"colab-df-convert\" onclick=\"convertToInteractive('df-a6699a1f-898f-4049-8105-f4c6cdb8d254')\"\n",
              "              title=\"Convert this dataframe to an interactive table.\"\n",
              "              style=\"display:none;\">\n",
              "        \n",
              "  <svg xmlns=\"http://www.w3.org/2000/svg\" height=\"24px\"viewBox=\"0 0 24 24\"\n",
              "       width=\"24px\">\n",
              "    <path d=\"M0 0h24v24H0V0z\" fill=\"none\"/>\n",
              "    <path d=\"M18.56 5.44l.94 2.06.94-2.06 2.06-.94-2.06-.94-.94-2.06-.94 2.06-2.06.94zm-11 1L8.5 8.5l.94-2.06 2.06-.94-2.06-.94L8.5 2.5l-.94 2.06-2.06.94zm10 10l.94 2.06.94-2.06 2.06-.94-2.06-.94-.94-2.06-.94 2.06-2.06.94z\"/><path d=\"M17.41 7.96l-1.37-1.37c-.4-.4-.92-.59-1.43-.59-.52 0-1.04.2-1.43.59L10.3 9.45l-7.72 7.72c-.78.78-.78 2.05 0 2.83L4 21.41c.39.39.9.59 1.41.59.51 0 1.02-.2 1.41-.59l7.78-7.78 2.81-2.81c.8-.78.8-2.07 0-2.86zM5.41 20L4 18.59l7.72-7.72 1.47 1.35L5.41 20z\"/>\n",
              "  </svg>\n",
              "      </button>\n",
              "      \n",
              "  <style>\n",
              "    .colab-df-container {\n",
              "      display:flex;\n",
              "      flex-wrap:wrap;\n",
              "      gap: 12px;\n",
              "    }\n",
              "\n",
              "    .colab-df-convert {\n",
              "      background-color: #E8F0FE;\n",
              "      border: none;\n",
              "      border-radius: 50%;\n",
              "      cursor: pointer;\n",
              "      display: none;\n",
              "      fill: #1967D2;\n",
              "      height: 32px;\n",
              "      padding: 0 0 0 0;\n",
              "      width: 32px;\n",
              "    }\n",
              "\n",
              "    .colab-df-convert:hover {\n",
              "      background-color: #E2EBFA;\n",
              "      box-shadow: 0px 1px 2px rgba(60, 64, 67, 0.3), 0px 1px 3px 1px rgba(60, 64, 67, 0.15);\n",
              "      fill: #174EA6;\n",
              "    }\n",
              "\n",
              "    [theme=dark] .colab-df-convert {\n",
              "      background-color: #3B4455;\n",
              "      fill: #D2E3FC;\n",
              "    }\n",
              "\n",
              "    [theme=dark] .colab-df-convert:hover {\n",
              "      background-color: #434B5C;\n",
              "      box-shadow: 0px 1px 3px 1px rgba(0, 0, 0, 0.15);\n",
              "      filter: drop-shadow(0px 1px 2px rgba(0, 0, 0, 0.3));\n",
              "      fill: #FFFFFF;\n",
              "    }\n",
              "  </style>\n",
              "\n",
              "      <script>\n",
              "        const buttonEl =\n",
              "          document.querySelector('#df-a6699a1f-898f-4049-8105-f4c6cdb8d254 button.colab-df-convert');\n",
              "        buttonEl.style.display =\n",
              "          google.colab.kernel.accessAllowed ? 'block' : 'none';\n",
              "\n",
              "        async function convertToInteractive(key) {\n",
              "          const element = document.querySelector('#df-a6699a1f-898f-4049-8105-f4c6cdb8d254');\n",
              "          const dataTable =\n",
              "            await google.colab.kernel.invokeFunction('convertToInteractive',\n",
              "                                                     [key], {});\n",
              "          if (!dataTable) return;\n",
              "\n",
              "          const docLinkHtml = 'Like what you see? Visit the ' +\n",
              "            '<a target=\"_blank\" href=https://colab.research.google.com/notebooks/data_table.ipynb>data table notebook</a>'\n",
              "            + ' to learn more about interactive tables.';\n",
              "          element.innerHTML = '';\n",
              "          dataTable['output_type'] = 'display_data';\n",
              "          await google.colab.output.renderOutput(dataTable, element);\n",
              "          const docLink = document.createElement('div');\n",
              "          docLink.innerHTML = docLinkHtml;\n",
              "          element.appendChild(docLink);\n",
              "        }\n",
              "      </script>\n",
              "    </div>\n",
              "  </div>\n",
              "  "
            ]
          },
          "metadata": {},
          "execution_count": 7
        }
      ],
      "source": [
        "df.head()"
      ]
    },
    {
      "cell_type": "code",
      "execution_count": null,
      "metadata": {
        "id": "9okDtGuBHEej",
        "outputId": "44425811-5d41-420c-deed-91ae4f3fd208",
        "colab": {
          "base_uri": "https://localhost:8080/",
          "height": 36
        }
      },
      "outputs": [
        {
          "output_type": "execute_result",
          "data": {
            "text/plain": [
              "'<tt onmouseover=\"alert(1)\">test</tt>'"
            ],
            "application/vnd.google.colaboratory.intrinsic+json": {
              "type": "string"
            }
          },
          "metadata": {},
          "execution_count": 8
        }
      ],
      "source": [
        "# Get Sentences data from data frame\n",
        "sentences=df['Sentence'].values\n",
        "sentences[1]"
      ]
    },
    {
      "cell_type": "code",
      "execution_count": null,
      "metadata": {
        "id": "4oSTyT1yHEej",
        "outputId": "c2dece93-cb9b-4435-f496-f3b81c438f90",
        "colab": {
          "base_uri": "https://localhost:8080/"
        }
      },
      "outputs": [
        {
          "output_type": "stream",
          "name": "stdout",
          "text": [
            "13686\n"
          ]
        }
      ],
      "source": [
        "print(len(sentences))"
      ]
    },
    {
      "cell_type": "code",
      "execution_count": null,
      "metadata": {
        "id": "7UaSouLXHEej"
      },
      "outputs": [],
      "source": [
        "# Convert to ASCII\n",
        "\n",
        "def convert_to_ascii(sentence):\n",
        "    sentence_ascii=[]\n",
        "\n",
        "    for i in sentence:\n",
        "        \n",
        "        \n",
        "        \"\"\"Some characters have values very big e.d 8221 adn some are chinese letters\n",
        "        I am removing letters having values greater than 8222 and for rest greater \n",
        "        than 128 and smaller than 8222 assigning them values so they can easily be normalized\"\"\"\n",
        "       \n",
        "        if(ord(i)<8222):      # ” has ASCII of 8221\n",
        "            \n",
        "            if(ord(i)==8217): # ’  :  8217\n",
        "                sentence_ascii.append(134)\n",
        "            \n",
        "            \n",
        "            if(ord(i)==8221): # ”  :  8221\n",
        "                sentence_ascii.append(129)\n",
        "                \n",
        "            if(ord(i)==8220): # “  :  8220\n",
        "                sentence_ascii.append(130)\n",
        "                \n",
        "                \n",
        "            if(ord(i)==8216): # ‘  :  8216\n",
        "                sentence_ascii.append(131)\n",
        "                \n",
        "            if(ord(i)==8217): # ’  :  8217\n",
        "                sentence_ascii.append(132)\n",
        "            \n",
        "            if(ord(i)==8211): # –  :  8211\n",
        "                sentence_ascii.append(133)\n",
        "                \n",
        "                \n",
        "            \"\"\"\n",
        "            If values less than 128 store them else discard them\n",
        "            \"\"\"\n",
        "            if (ord(i)<=128):\n",
        "                    sentence_ascii.append(ord(i))\n",
        "    \n",
        "            else:\n",
        "                    pass\n",
        "            \n",
        "\n",
        "    zer=np.zeros((10000))\n",
        "\n",
        "    for i in range(len(sentence_ascii)):\n",
        "        zer[i]=sentence_ascii[i]\n",
        "\n",
        "    zer.shape=(100, 100)\n",
        "\n",
        "\n",
        "#     plt.plot(image)\n",
        "#     plt.show()\n",
        "    return zer\n"
      ]
    },
    {
      "cell_type": "code",
      "execution_count": null,
      "metadata": {
        "id": "tc7te-lRHEek"
      },
      "outputs": [],
      "source": [
        "\n",
        "\n",
        "# send each sentence to be converted to ASCII\n",
        "\n",
        "\n",
        "arr=np.zeros((len(sentences),100,100))\n",
        "\n",
        "for i in range(len(sentences)):\n",
        "    \n",
        "    image=convert_to_ascii(sentences[i])\n",
        "\n",
        "    x=np.asarray(image,dtype='float')\n",
        "    image =  cv2.resize(x, dsize=(100,100), interpolation=cv2.INTER_CUBIC)\n",
        "    image/=128\n",
        "\n",
        "    \n",
        "#     if i==1:\n",
        "#         plt.plot(image)\n",
        "#         plt.show()    \n",
        "    arr[i]=image\n",
        "\n"
      ]
    },
    {
      "cell_type": "code",
      "execution_count": null,
      "metadata": {
        "id": "XnLDbXRZHEek",
        "outputId": "487437e0-81fe-4b1a-9e05-26c0a7c86156",
        "colab": {
          "base_uri": "https://localhost:8080/"
        }
      },
      "outputs": [
        {
          "output_type": "stream",
          "name": "stdout",
          "text": [
            "Input data shape :  (13686, 100, 100)\n"
          ]
        }
      ],
      "source": [
        "print(\"Input data shape : \", arr.shape)"
      ]
    },
    {
      "cell_type": "code",
      "execution_count": null,
      "metadata": {
        "id": "zre1m4xUHEel"
      },
      "outputs": [],
      "source": [
        "# Reshape data for input to CNN\n",
        "data = arr.reshape(arr.shape[0], 100, 100, 1)"
      ]
    },
    {
      "cell_type": "code",
      "execution_count": null,
      "metadata": {
        "id": "t6xck02bHEel",
        "outputId": "4958e384-7a73-4efe-82c1-423f2c08c037",
        "colab": {
          "base_uri": "https://localhost:8080/"
        }
      },
      "outputs": [
        {
          "output_type": "execute_result",
          "data": {
            "text/plain": [
              "(13686, 100, 100, 1)"
            ]
          },
          "metadata": {},
          "execution_count": 13
        }
      ],
      "source": [
        "data.shape"
      ]
    },
    {
      "cell_type": "code",
      "execution_count": null,
      "metadata": {
        "id": "FnKWJxARHEel"
      },
      "outputs": [],
      "source": [
        "y=df['Label'].values"
      ]
    },
    {
      "cell_type": "code",
      "execution_count": null,
      "metadata": {
        "id": "Bip0e_7aHEel"
      },
      "outputs": [],
      "source": [
        "# Split into train/test data\n",
        "from sklearn.model_selection import train_test_split\n",
        "trainX, testX, trainY, testY = train_test_split(data,y, test_size=0.2, random_state=42)"
      ]
    },
    {
      "cell_type": "code",
      "execution_count": null,
      "metadata": {
        "id": "JqOSWFE1HEel"
      },
      "outputs": [],
      "source": [
        "# import libraries for Making Model\n",
        "import tensorflow as tf\n",
        "from keras.models import Sequential\n",
        "from keras.layers import Dense, Activation, Conv2D, MaxPooling2D,Flatten,Dropout,MaxPool2D, BatchNormalization"
      ]
    },
    {
      "cell_type": "code",
      "execution_count": null,
      "metadata": {
        "id": "w1sX62l3HEem"
      },
      "outputs": [],
      "source": [
        "# A basic CNN Model\n",
        "# Number of layers = 11\n",
        "# Number of Convolutional layer: 3\n",
        "\n",
        "model=tf.keras.models.Sequential([\n",
        "    \n",
        "    tf.keras.layers.Conv2D(64,(3,3), activation=tf.nn.relu, input_shape=(100,100,1)),\n",
        "    tf.keras.layers.MaxPooling2D(2,2),\n",
        "    \n",
        "    tf.keras.layers.Conv2D(128,(3,3), activation='relu'),\n",
        "    tf.keras.layers.MaxPooling2D(2,2),\n",
        "    \n",
        "    tf.keras.layers.Conv2D(256,(3,3), activation='relu'),\n",
        "    tf.keras.layers.MaxPooling2D(2,2),\n",
        "    \n",
        "    tf.keras.layers.Flatten(),\n",
        "    tf.keras.layers.Dense(256, activation='relu'),\n",
        "    tf.keras.layers.Dense(128, activation='relu'),\n",
        "    tf.keras.layers.Dense(64, activation='relu'),\n",
        "    tf.keras.layers.Dense(1, activation='sigmoid')\n",
        "    \n",
        "])"
      ]
    },
    {
      "cell_type": "code",
      "execution_count": null,
      "metadata": {
        "id": "R6IuuVtSHEem",
        "colab": {
          "base_uri": "https://localhost:8080/"
        },
        "outputId": "68f5c4e9-ed61-4382-e339-5c0ca740db41"
      },
      "outputs": [
        {
          "output_type": "stream",
          "name": "stdout",
          "text": [
            "Model: \"sequential\"\n",
            "_________________________________________________________________\n",
            " Layer (type)                Output Shape              Param #   \n",
            "=================================================================\n",
            " conv2d (Conv2D)             (None, 98, 98, 64)        640       \n",
            "                                                                 \n",
            " max_pooling2d (MaxPooling2D  (None, 49, 49, 64)       0         \n",
            " )                                                               \n",
            "                                                                 \n",
            " conv2d_1 (Conv2D)           (None, 47, 47, 128)       73856     \n",
            "                                                                 \n",
            " max_pooling2d_1 (MaxPooling  (None, 23, 23, 128)      0         \n",
            " 2D)                                                             \n",
            "                                                                 \n",
            " conv2d_2 (Conv2D)           (None, 21, 21, 256)       295168    \n",
            "                                                                 \n",
            " max_pooling2d_2 (MaxPooling  (None, 10, 10, 256)      0         \n",
            " 2D)                                                             \n",
            "                                                                 \n",
            " flatten (Flatten)           (None, 25600)             0         \n",
            "                                                                 \n",
            " dense (Dense)               (None, 256)               6553856   \n",
            "                                                                 \n",
            " dense_1 (Dense)             (None, 128)               32896     \n",
            "                                                                 \n",
            " dense_2 (Dense)             (None, 64)                8256      \n",
            "                                                                 \n",
            " dense_3 (Dense)             (None, 1)                 65        \n",
            "                                                                 \n",
            "=================================================================\n",
            "Total params: 6,964,737\n",
            "Trainable params: 6,964,737\n",
            "Non-trainable params: 0\n",
            "_________________________________________________________________\n"
          ]
        }
      ],
      "source": [
        "\n",
        "model.compile(loss='binary_crossentropy', \n",
        "              optimizer='adam', \n",
        "              metrics=['accuracy'])\n",
        "model.summary()"
      ]
    },
    {
      "cell_type": "code",
      "execution_count": null,
      "metadata": {
        "id": "1dyLbduyHEem"
      },
      "outputs": [],
      "source": [
        "# Stop when validation accuracy > 97\n",
        "\n",
        "class myCallback(tf.keras.callbacks.Callback):\n",
        "    def on_epoch_end(self, epoch, logs={}):\n",
        "        if(logs.get('val_accuracy')>0.97):\n",
        "            print(\" \\n Reached 97% + validation accuracy\")\n",
        "            self.model.stop_training=True\n",
        "callbacks = myCallback()"
      ]
    },
    {
      "cell_type": "code",
      "execution_count": null,
      "metadata": {
        "id": "X9N6eSP-HEem",
        "colab": {
          "base_uri": "https://localhost:8080/"
        },
        "outputId": "30a8a757-e5b4-4ff2-c1ab-0d428ea80974"
      },
      "outputs": [
        {
          "output_type": "stream",
          "name": "stdout",
          "text": [
            "Epoch 1/10\n",
            "86/86 [==============================] - 697s 8s/step - loss: 0.4434 - accuracy: 0.7871 - val_loss: 0.3498 - val_accuracy: 0.8539\n",
            "Epoch 2/10\n",
            "86/86 [==============================] - 681s 8s/step - loss: 0.1486 - accuracy: 0.9455 - val_loss: 0.0698 - val_accuracy: 0.9788\n",
            "Epoch 3/10\n",
            "86/86 [==============================] - 678s 8s/step - loss: 0.0581 - accuracy: 0.9833 - val_loss: 0.0583 - val_accuracy: 0.9847\n",
            "Epoch 4/10\n",
            "86/86 [==============================] - 636s 7s/step - loss: 0.0551 - accuracy: 0.9848 - val_loss: 0.0639 - val_accuracy: 0.9817\n",
            "Epoch 5/10\n",
            "86/86 [==============================] - 635s 7s/step - loss: 0.0539 - accuracy: 0.9844 - val_loss: 0.0530 - val_accuracy: 0.9869\n",
            "Epoch 6/10\n",
            "86/86 [==============================] - 685s 8s/step - loss: 0.0391 - accuracy: 0.9891 - val_loss: 0.0697 - val_accuracy: 0.9810\n",
            "Epoch 7/10\n",
            "86/86 [==============================] - 678s 8s/step - loss: 0.0362 - accuracy: 0.9888 - val_loss: 0.0595 - val_accuracy: 0.9839\n",
            "Epoch 8/10\n",
            "86/86 [==============================] - 686s 8s/step - loss: 0.0318 - accuracy: 0.9909 - val_loss: 0.0462 - val_accuracy: 0.9879\n",
            "Epoch 9/10\n",
            "86/86 [==============================] - 640s 7s/step - loss: 0.0236 - accuracy: 0.9933 - val_loss: 0.0315 - val_accuracy: 0.9883\n",
            "Epoch 10/10\n",
            "86/86 [==============================] - 639s 7s/step - loss: 0.0300 - accuracy: 0.9919 - val_loss: 0.0406 - val_accuracy: 0.9887\n"
          ]
        }
      ],
      "source": [
        "batch_size = 128\n",
        "num_epoch = 10\n",
        "#model training\n",
        "model_log = model.fit(trainX, trainY,\n",
        "          batch_size=batch_size,\n",
        "          epochs=num_epoch,\n",
        "          verbose=1,\n",
        "          validation_data=( testX,  testY)\n",
        "#                        callbacks=[callbacks]\n",
        "                     )"
      ]
    },
    {
      "cell_type": "code",
      "execution_count": null,
      "metadata": {
        "id": "QGOyw0x8HEen",
        "colab": {
          "base_uri": "https://localhost:8080/"
        },
        "outputId": "adf5a451-7c54-4dbc-ac45-360aa6b148ec"
      },
      "outputs": [
        {
          "output_type": "stream",
          "name": "stdout",
          "text": [
            "86/86 [==============================] - 40s 461ms/step\n"
          ]
        }
      ],
      "source": [
        "# predict for test set\n",
        "pred=model.predict(testX)\n"
      ]
    },
    {
      "cell_type": "code",
      "execution_count": null,
      "metadata": {
        "id": "9J59O0YDHEen"
      },
      "outputs": [],
      "source": [
        "# Threshold values predicted\n",
        "\n",
        "for i in range(len(pred)):\n",
        "    if pred[i]>0.5:\n",
        "        pred[i]=1\n",
        "    elif pred[i]<=0.5:\n",
        "        pred[i]=0\n",
        "\n"
      ]
    },
    {
      "cell_type": "code",
      "execution_count": null,
      "metadata": {
        "id": "idLSVHHSHEen",
        "colab": {
          "base_uri": "https://localhost:8080/"
        },
        "outputId": "576b2ce0-9b39-48d7-b2b8-3b9c860ab8b2"
      },
      "outputs": [
        {
          "output_type": "stream",
          "name": "stdout",
          "text": [
            "correct predicted ::  2707\n",
            "false prediction ::  31\n"
          ]
        }
      ],
      "source": [
        "# Count True predicted and wrong predicted\n",
        "\n",
        "true=0\n",
        "false=0\n",
        "\n",
        "for i in range(len(pred)):\n",
        "    if pred[i] == testY[i]:\n",
        "        true+=1\n",
        "    else:\n",
        "        false+=1\n",
        "        \n",
        "print(\"correct predicted :: \", true)\n",
        "print(\"false prediction :: \", false)"
      ]
    },
    {
      "cell_type": "code",
      "execution_count": null,
      "metadata": {
        "id": "Gl5Jbba0HEen",
        "colab": {
          "base_uri": "https://localhost:8080/"
        },
        "outputId": "0cc0ceab-13a6-4389-ef53-f046c95ae74f"
      },
      "outputs": [
        {
          "output_type": "stream",
          "name": "stdout",
          "text": [
            "Attack data in test set ::  1478\n",
            " Benign data in test set ::  1260\n"
          ]
        }
      ],
      "source": [
        "# Number of attack and benign data in test set\n",
        "\n",
        "attack=0\n",
        "benign=0\n",
        "for i in range(len(testY)):\n",
        "    if testY[i]==1:\n",
        "        attack+=1\n",
        "    else:\n",
        "        benign+=1\n",
        "\n",
        "print(\"Attack data in test set :: \", attack)\n",
        "print(\" Benign data in test set :: \", benign)"
      ]
    },
    {
      "cell_type": "markdown",
      "metadata": {
        "id": "5egloTs0HEen"
      },
      "source": [
        "### Confusion Matrix"
      ]
    },
    {
      "cell_type": "code",
      "execution_count": null,
      "metadata": {
        "id": "tKrDboUXHEen"
      },
      "outputs": [],
      "source": [
        "# Takes True positive, true negative, false positive and false negative as input\n",
        "# Returns Accuracy\n",
        "\n",
        "def accuracy_function(tp,tn,fp,fn):\n",
        "    \n",
        "    accuracy = (tp+tn) / (tp+tn+fp+fn)\n",
        "    \n",
        "    return accuracy"
      ]
    },
    {
      "cell_type": "code",
      "execution_count": null,
      "metadata": {
        "id": "r-khvFbgHEen"
      },
      "outputs": [],
      "source": [
        "# Takes True Positive and false positive\n",
        "# Returns Precision\n",
        "\n",
        "def precision_function(tp,fp):\n",
        "    \n",
        "    precision = tp / (tp+fp)\n",
        "    \n",
        "    return precision"
      ]
    },
    {
      "cell_type": "code",
      "execution_count": null,
      "metadata": {
        "id": "CyTmAxYFHEeo"
      },
      "outputs": [],
      "source": [
        "#Takes True Positive and false negative\n",
        "# Returns Recall\n",
        "\n",
        "def recall_function(tp,fn):\n",
        "    \n",
        "    recall=tp / (tp+fn)\n",
        "    \n",
        "    return recall"
      ]
    },
    {
      "cell_type": "code",
      "execution_count": null,
      "metadata": {
        "id": "QOUMqqLDHEeo"
      },
      "outputs": [],
      "source": [
        "#Takes true values and predicted\n",
        "# Returns Accuracy, precision and recall\n",
        "\n",
        "\n",
        "def confusion_matrix(truth,predicted):\n",
        "    \n",
        "    true_positive = 0\n",
        "    true_negative = 0\n",
        "    false_positive = 0\n",
        "    false_negative = 0\n",
        "    \n",
        "    for true,pred in zip(truth,predicted):\n",
        "        if true == 1:\n",
        "            if pred == true:\n",
        "                true_positive += 1\n",
        "            elif pred != true:\n",
        "                false_negative += 1\n",
        "\n",
        "        elif true == 0:\n",
        "            if pred == true:\n",
        "                true_negative += 1\n",
        "            elif pred != true:\n",
        "                false_positive += 1\n",
        "            \n",
        "    accuracy=accuracy_function(true_positive, true_negative, false_positive, false_negative)\n",
        "    precision=precision_function(true_positive, false_positive)\n",
        "    recall=recall_function(true_positive, false_negative)\n",
        "    \n",
        "    return (accuracy,\n",
        "            precision,\n",
        "           recall)"
      ]
    },
    {
      "cell_type": "code",
      "execution_count": null,
      "metadata": {
        "id": "6iVtRrs-HEeo"
      },
      "outputs": [],
      "source": [
        "accuracy,precision,recall=confusion_matrix(testY,pred)"
      ]
    },
    {
      "cell_type": "code",
      "execution_count": null,
      "metadata": {
        "id": "KtL2GZkyHEeo",
        "colab": {
          "base_uri": "https://localhost:8080/"
        },
        "outputId": "f5a66363-f496-43f0-eebd-3e352e8d5795"
      },
      "outputs": [
        {
          "output_type": "stream",
          "name": "stdout",
          "text": [
            " Accuracy : 0.9886778670562454 \n",
            " Precision : 0.9852448021462106 \n",
            " Recall : 0.9939106901217862\n"
          ]
        }
      ],
      "source": [
        "\n",
        "print(\" Accuracy : {0} \\n Precision : {1} \\n Recall : {2}\".format(accuracy, precision, recall))"
      ]
    },
    {
      "cell_type": "code",
      "execution_count": null,
      "metadata": {
        "id": "5S_LSfJWHEeo"
      },
      "outputs": [],
      "source": []
    }
  ],
  "metadata": {
    "kernelspec": {
      "display_name": "Python 3",
      "language": "python",
      "name": "python3"
    },
    "language_info": {
      "codemirror_mode": {
        "name": "ipython",
        "version": 3
      },
      "file_extension": ".py",
      "mimetype": "text/x-python",
      "name": "python",
      "nbconvert_exporter": "python",
      "pygments_lexer": "ipython3",
      "version": "3.8.8"
    },
    "colab": {
      "provenance": []
    }
  },
  "nbformat": 4,
  "nbformat_minor": 0
}