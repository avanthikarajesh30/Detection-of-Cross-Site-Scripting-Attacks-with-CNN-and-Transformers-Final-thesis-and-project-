{
  "cells": [
    {
      "cell_type": "markdown",
      "metadata": {
        "id": "PU6V7P8aBFD8"
      },
      "source": [
        "### Import Libraries"
      ]
    },
    {
      "cell_type": "code",
      "execution_count": null,
      "metadata": {
        "execution": {
          "iopub.execute_input": "2024-04-03T13:57:27.485228Z",
          "iopub.status.busy": "2024-04-03T13:57:27.484813Z",
          "iopub.status.idle": "2024-04-03T13:57:34.823156Z",
          "shell.execute_reply": "2024-04-03T13:57:34.822379Z",
          "shell.execute_reply.started": "2024-04-03T13:57:27.485171Z"
        },
        "trusted": true,
        "id": "izdPu2vqBFD-"
      },
      "outputs": [],
      "source": [
        "\n",
        "import numpy as np\n",
        "import pandas as pd\n",
        "import glob\n",
        "import time\n",
        "import pandas as pd\n",
        "# from xml.dom import minidom\n",
        "\n",
        "\n",
        "import os\n",
        "import matplotlib.pyplot as plt\n",
        "import keras\n",
        "\n",
        "import cv2"
      ]
    },
    {
      "cell_type": "code",
      "execution_count": null,
      "metadata": {
        "execution": {
          "iopub.execute_input": "2024-04-03T13:57:34.825933Z",
          "iopub.status.busy": "2024-04-03T13:57:34.825523Z",
          "iopub.status.idle": "2024-04-03T13:57:34.908829Z",
          "shell.execute_reply": "2024-04-03T13:57:34.908119Z",
          "shell.execute_reply.started": "2024-04-03T13:57:34.825875Z"
        },
        "trusted": true,
        "id": "SvrmmdAyBFEA"
      },
      "outputs": [],
      "source": [
        "df=pd.read_csv('/XSS_dataset.csv', encoding='utf-8-sig')"
      ]
    },
    {
      "cell_type": "code",
      "source": [
        "from google.colab import drive\n",
        "drive.mount('/content/drive')"
      ],
      "metadata": {
        "id": "5nOH_GWSB-e6"
      },
      "execution_count": null,
      "outputs": []
    },
    {
      "cell_type": "code",
      "execution_count": null,
      "metadata": {
        "execution": {
          "iopub.execute_input": "2024-04-03T13:57:34.910472Z",
          "iopub.status.busy": "2024-04-03T13:57:34.910191Z",
          "iopub.status.idle": "2024-04-03T13:57:34.932623Z",
          "shell.execute_reply": "2024-04-03T13:57:34.931748Z",
          "shell.execute_reply.started": "2024-04-03T13:57:34.910434Z"
        },
        "trusted": true,
        "id": "mzAsihP0BFEB"
      },
      "outputs": [],
      "source": [
        "df.head()"
      ]
    },
    {
      "cell_type": "code",
      "execution_count": null,
      "metadata": {
        "execution": {
          "iopub.execute_input": "2024-04-03T13:57:34.934653Z",
          "iopub.status.busy": "2024-04-03T13:57:34.934250Z",
          "iopub.status.idle": "2024-04-03T13:57:34.944574Z",
          "shell.execute_reply": "2024-04-03T13:57:34.943674Z",
          "shell.execute_reply.started": "2024-04-03T13:57:34.934594Z"
        },
        "trusted": true,
        "id": "_QZT3pIBBFEC"
      },
      "outputs": [],
      "source": [
        "df=df[df.columns[-2:]]  # Only get sentence and labels"
      ]
    },
    {
      "cell_type": "code",
      "execution_count": null,
      "metadata": {
        "execution": {
          "iopub.execute_input": "2024-04-03T13:57:34.947802Z",
          "iopub.status.busy": "2024-04-03T13:57:34.947476Z",
          "iopub.status.idle": "2024-04-03T13:57:34.961818Z",
          "shell.execute_reply": "2024-04-03T13:57:34.960872Z",
          "shell.execute_reply.started": "2024-04-03T13:57:34.947752Z"
        },
        "trusted": true,
        "id": "g1LBTjkvBFEC"
      },
      "outputs": [],
      "source": [
        "df.head()"
      ]
    },
    {
      "cell_type": "code",
      "execution_count": null,
      "metadata": {
        "execution": {
          "iopub.execute_input": "2024-04-03T13:57:34.965683Z",
          "iopub.status.busy": "2024-04-03T13:57:34.965280Z",
          "iopub.status.idle": "2024-04-03T13:57:34.972376Z",
          "shell.execute_reply": "2024-04-03T13:57:34.971599Z",
          "shell.execute_reply.started": "2024-04-03T13:57:34.965627Z"
        },
        "trusted": true,
        "id": "pQxPSGZLBFED"
      },
      "outputs": [],
      "source": [
        "# Get Sentences data from data frame\n",
        "sentences=df['Sentence'].values\n",
        "sentences[1]"
      ]
    },
    {
      "cell_type": "code",
      "execution_count": null,
      "metadata": {
        "execution": {
          "iopub.execute_input": "2024-04-03T13:57:34.973773Z",
          "iopub.status.busy": "2024-04-03T13:57:34.973463Z",
          "iopub.status.idle": "2024-04-03T13:57:34.983023Z",
          "shell.execute_reply": "2024-04-03T13:57:34.982323Z",
          "shell.execute_reply.started": "2024-04-03T13:57:34.973725Z"
        },
        "trusted": true,
        "id": "ILQd60BMBFED"
      },
      "outputs": [],
      "source": [
        "print(len(sentences))"
      ]
    },
    {
      "cell_type": "code",
      "execution_count": null,
      "metadata": {
        "execution": {
          "iopub.execute_input": "2024-04-03T13:59:46.679189Z",
          "iopub.status.busy": "2024-04-03T13:59:46.678756Z",
          "iopub.status.idle": "2024-04-03T13:59:46.688865Z",
          "shell.execute_reply": "2024-04-03T13:59:46.688077Z",
          "shell.execute_reply.started": "2024-04-03T13:59:46.679124Z"
        },
        "trusted": true,
        "id": "3jGtk17aBFEE"
      },
      "outputs": [],
      "source": [
        "def convert_to_ascii(sentence):\n",
        "    sentence_ascii = []\n",
        "    for i in sentence:\n",
        "        if ord(i) < 8222:  # Adjusted condition\n",
        "            if ord(i) == 8221:  # ” : 8221\n",
        "                sentence_ascii.append(129)\n",
        "            elif ord(i) == 8220:  # “ : 8220\n",
        "                sentence_ascii.append(130)\n",
        "            elif ord(i) == 8216:  # ‘ : 8216\n",
        "                sentence_ascii.append(131)\n",
        "            elif ord(i) == 8217:  # ’ : 8217\n",
        "                sentence_ascii.append(132)\n",
        "            elif ord(i) == 8211:  # – : 8211\n",
        "                sentence_ascii.append(133)\n",
        "            else:\n",
        "                sentence_ascii.append(ord(i))\n",
        "    zer = np.zeros((10000))\n",
        "    for i in range(len(sentence_ascii)):\n",
        "        zer[i] = sentence_ascii[i]\n",
        "    zer.shape = (100, 100)\n",
        "    return zer\n"
      ]
    },
    {
      "cell_type": "code",
      "execution_count": null,
      "metadata": {
        "execution": {
          "iopub.execute_input": "2024-04-03T13:59:49.343908Z",
          "iopub.status.busy": "2024-04-03T13:59:49.343535Z",
          "iopub.status.idle": "2024-04-03T13:59:51.821884Z",
          "shell.execute_reply": "2024-04-03T13:59:51.820972Z",
          "shell.execute_reply.started": "2024-04-03T13:59:49.343864Z"
        },
        "trusted": true,
        "id": "3i2C-GxSBFEE"
      },
      "outputs": [],
      "source": [
        "\n",
        "\n",
        "# send each sentence to be converted to ASCII\n",
        "\n",
        "\n",
        "arr=np.zeros((len(sentences),100,100))\n",
        "\n",
        "for i in range(len(sentences)):\n",
        "\n",
        "    image=convert_to_ascii(sentences[i])\n",
        "\n",
        "    x=np.asarray(image,dtype='float')\n",
        "    image =  cv2.resize(x, dsize=(100,100), interpolation=cv2.INTER_CUBIC)\n",
        "    image/=128\n",
        "\n",
        "\n",
        "#     if i==1:\n",
        "#         plt.plot(image)\n",
        "#         plt.show()\n",
        "    arr[i]=image\n",
        "\n"
      ]
    },
    {
      "cell_type": "code",
      "execution_count": null,
      "metadata": {
        "execution": {
          "iopub.execute_input": "2024-04-03T14:00:02.523672Z",
          "iopub.status.busy": "2024-04-03T14:00:02.523304Z",
          "iopub.status.idle": "2024-04-03T14:00:02.528409Z",
          "shell.execute_reply": "2024-04-03T14:00:02.527469Z",
          "shell.execute_reply.started": "2024-04-03T14:00:02.523629Z"
        },
        "trusted": true,
        "id": "1m_vpXv7BFEF"
      },
      "outputs": [],
      "source": [
        "print(\"Input data shape : \", arr.shape)"
      ]
    },
    {
      "cell_type": "code",
      "execution_count": null,
      "metadata": {
        "execution": {
          "iopub.execute_input": "2024-04-03T14:00:04.553399Z",
          "iopub.status.busy": "2024-04-03T14:00:04.552980Z",
          "iopub.status.idle": "2024-04-03T14:00:04.557894Z",
          "shell.execute_reply": "2024-04-03T14:00:04.557027Z",
          "shell.execute_reply.started": "2024-04-03T14:00:04.553333Z"
        },
        "trusted": true,
        "id": "v5wgIoQmBFEG"
      },
      "outputs": [],
      "source": [
        "# Reshape data for input to CNN\n",
        "data = arr.reshape(arr.shape[0], 100, 100, 1)"
      ]
    },
    {
      "cell_type": "code",
      "execution_count": null,
      "metadata": {
        "execution": {
          "iopub.execute_input": "2024-04-03T14:00:09.234126Z",
          "iopub.status.busy": "2024-04-03T14:00:09.233692Z",
          "iopub.status.idle": "2024-04-03T14:00:09.239524Z",
          "shell.execute_reply": "2024-04-03T14:00:09.238593Z",
          "shell.execute_reply.started": "2024-04-03T14:00:09.234050Z"
        },
        "trusted": true,
        "id": "ACm7hhBJBFEG"
      },
      "outputs": [],
      "source": [
        "data.shape"
      ]
    },
    {
      "cell_type": "code",
      "execution_count": null,
      "metadata": {
        "execution": {
          "iopub.execute_input": "2024-04-03T14:00:12.549048Z",
          "iopub.status.busy": "2024-04-03T14:00:12.548637Z",
          "iopub.status.idle": "2024-04-03T14:00:12.553324Z",
          "shell.execute_reply": "2024-04-03T14:00:12.552474Z",
          "shell.execute_reply.started": "2024-04-03T14:00:12.548987Z"
        },
        "trusted": true,
        "id": "5G_HN7ghBFEG"
      },
      "outputs": [],
      "source": [
        "y=df['Label'].values"
      ]
    },
    {
      "cell_type": "code",
      "execution_count": null,
      "metadata": {
        "execution": {
          "iopub.execute_input": "2024-04-03T14:00:14.774227Z",
          "iopub.status.busy": "2024-04-03T14:00:14.773675Z",
          "iopub.status.idle": "2024-04-03T14:00:15.510489Z",
          "shell.execute_reply": "2024-04-03T14:00:15.509676Z",
          "shell.execute_reply.started": "2024-04-03T14:00:14.774159Z"
        },
        "trusted": true,
        "id": "eNfwZhX8BFEG"
      },
      "outputs": [],
      "source": [
        "# Split into train/test data\n",
        "from sklearn.model_selection import train_test_split\n",
        "trainX, testX, trainY, testY = train_test_split(data,y, test_size=0.2, random_state=42)\n",
        "trainX, validX, trainY, validY = train_test_split(trainX,trainY, test_size=0.2, random_state=42)"
      ]
    },
    {
      "cell_type": "code",
      "execution_count": null,
      "metadata": {
        "execution": {
          "iopub.execute_input": "2024-04-03T14:00:17.583668Z",
          "iopub.status.busy": "2024-04-03T14:00:17.583292Z",
          "iopub.status.idle": "2024-04-03T14:00:17.588796Z",
          "shell.execute_reply": "2024-04-03T14:00:17.587664Z",
          "shell.execute_reply.started": "2024-04-03T14:00:17.583623Z"
        },
        "trusted": true,
        "id": "nC75HgM5BFEH"
      },
      "outputs": [],
      "source": [
        "# import libraries for Making Model\n",
        "import tensorflow as tf\n",
        "from keras.models import Sequential\n",
        "from keras.layers import Dense, Activation, Conv2D, MaxPooling2D,Flatten,Dropout,MaxPool2D, BatchNormalization"
      ]
    },
    {
      "cell_type": "code",
      "execution_count": null,
      "metadata": {
        "execution": {
          "iopub.execute_input": "2024-04-03T14:01:36.198892Z",
          "iopub.status.busy": "2024-04-03T14:01:36.198521Z",
          "iopub.status.idle": "2024-04-03T14:01:36.712355Z",
          "shell.execute_reply": "2024-04-03T14:01:36.711487Z",
          "shell.execute_reply.started": "2024-04-03T14:01:36.198849Z"
        },
        "trusted": true,
        "id": "CpO_j2qhBFEH"
      },
      "outputs": [],
      "source": [
        "import tensorflow as tf\n",
        "from tensorflow.keras.models import Sequential\n",
        "from tensorflow.keras.layers import SimpleRNN, Dense, Bidirectional\n",
        "\n",
        "# Define the model\n",
        "model = Sequential([\n",
        "    Bidirectional(SimpleRNN(64, activation='relu', return_sequences=True), input_shape=(100, 100)),\n",
        "\n",
        "    # Add dropout for regularization if needed\n",
        "    # tf.keras.layers.Dropout(0.2),\n",
        "\n",
        "    Bidirectional(SimpleRNN(128, activation='relu', return_sequences=True)),\n",
        "    Bidirectional(SimpleRNN(256, activation='relu', return_sequences=True)),\n",
        "\n",
        "    # Add more SimpleRNN layers if needed\n",
        "\n",
        "    # Flatten the output of the RNN layers\n",
        "    tf.keras.layers.Flatten(),\n",
        "\n",
        "    # Dense layers\n",
        "    Dense(256, activation='relu'),\n",
        "    Dense(128, activation='relu'),\n",
        "    Dense(64, activation='relu'),\n",
        "    Dense(1, activation='sigmoid')\n",
        "])\n",
        "\n"
      ]
    },
    {
      "cell_type": "code",
      "execution_count": null,
      "metadata": {
        "execution": {
          "iopub.execute_input": "2024-04-03T14:01:39.563403Z",
          "iopub.status.busy": "2024-04-03T14:01:39.563030Z",
          "iopub.status.idle": "2024-04-03T14:01:39.618496Z",
          "shell.execute_reply": "2024-04-03T14:01:39.617617Z",
          "shell.execute_reply.started": "2024-04-03T14:01:39.563360Z"
        },
        "trusted": true,
        "id": "B2D61gf6BFEH"
      },
      "outputs": [],
      "source": [
        "# Compile the model\n",
        "model.compile(loss='binary_crossentropy',\n",
        "              optimizer='adam',\n",
        "              metrics=['accuracy'])\n",
        "model.summary()"
      ]
    },
    {
      "cell_type": "code",
      "execution_count": null,
      "metadata": {
        "execution": {
          "iopub.execute_input": "2024-04-03T14:02:50.863811Z",
          "iopub.status.busy": "2024-04-03T14:02:50.863437Z",
          "iopub.status.idle": "2024-04-03T14:05:47.132623Z",
          "shell.execute_reply": "2024-04-03T14:05:47.131776Z",
          "shell.execute_reply.started": "2024-04-03T14:02:50.863767Z"
        },
        "trusted": true,
        "colab": {
          "base_uri": "https://localhost:8080/"
        },
        "id": "W0HQvm-nBFEH",
        "outputId": "9af72487-5f6c-41a5-e799-67f37a59d5f1"
      },
      "outputs": [
        {
          "output_type": "stream",
          "name": "stdout",
          "text": [
            "Epoch 1/10\n",
            "69/69 [==============================] - 143s 2s/step - loss: 0.2417 - accuracy: 0.8939 - val_loss: 0.1122 - val_accuracy: 0.9662\n",
            "Epoch 2/10\n",
            "69/69 [==============================] - 126s 2s/step - loss: 0.0912 - accuracy: 0.9719 - val_loss: 0.0630 - val_accuracy: 0.9813\n",
            "Epoch 3/10\n",
            "69/69 [==============================] - 128s 2s/step - loss: 0.0676 - accuracy: 0.9784 - val_loss: 0.0659 - val_accuracy: 0.9813\n",
            "Epoch 4/10\n",
            "69/69 [==============================] - 132s 2s/step - loss: 0.0460 - accuracy: 0.9860 - val_loss: 0.0594 - val_accuracy: 0.9840\n",
            "Epoch 5/10\n",
            "69/69 [==============================] - 143s 2s/step - loss: 0.0373 - accuracy: 0.9880 - val_loss: 0.0541 - val_accuracy: 0.9849\n",
            "Epoch 6/10\n",
            "69/69 [==============================] - 148s 2s/step - loss: 0.0322 - accuracy: 0.9902 - val_loss: 0.0549 - val_accuracy: 0.9831\n",
            "Epoch 7/10\n",
            "69/69 [==============================] - 133s 2s/step - loss: 0.0491 - accuracy: 0.9832 - val_loss: 0.0632 - val_accuracy: 0.9831\n",
            "Epoch 8/10\n",
            "69/69 [==============================] - 132s 2s/step - loss: 0.0264 - accuracy: 0.9917 - val_loss: 0.0526 - val_accuracy: 0.9840\n",
            "Epoch 9/10\n",
            "69/69 [==============================] - 142s 2s/step - loss: 0.0205 - accuracy: 0.9928 - val_loss: 0.0737 - val_accuracy: 0.9826\n",
            "Epoch 10/10\n",
            "69/69 [==============================] - 131s 2s/step - loss: 0.0320 - accuracy: 0.9895 - val_loss: 0.0628 - val_accuracy: 0.9849\n"
          ]
        }
      ],
      "source": [
        "# Reshape input data to have 3 dimensions\n",
        "trainX_reshaped = trainX.reshape(trainX.shape[0], trainX.shape[1], trainX.shape[2])\n",
        "\n",
        "# Define batch size and number of epochs\n",
        "batch_size = 128\n",
        "num_epochs = 10\n",
        "\n",
        "validX_reshaped = validX.reshape(validX.shape[0], validX.shape[1], validX.shape[2])\n",
        "\n",
        "# Model training\n",
        "model_log = model.fit(trainX_reshaped, trainY,\n",
        "                      batch_size=batch_size,\n",
        "                      epochs=num_epochs,\n",
        "                      verbose=1,\n",
        "                      validation_data=(validX_reshaped, validY))"
      ]
    },
    {
      "cell_type": "code",
      "execution_count": null,
      "metadata": {
        "execution": {
          "iopub.execute_input": "2024-04-03T14:05:55.949415Z",
          "iopub.status.busy": "2024-04-03T14:05:55.949019Z",
          "iopub.status.idle": "2024-04-03T14:05:57.652502Z",
          "shell.execute_reply": "2024-04-03T14:05:57.651522Z",
          "shell.execute_reply.started": "2024-04-03T14:05:55.949368Z"
        },
        "trusted": true,
        "id": "h94IsegGBFEI"
      },
      "outputs": [],
      "source": [
        "# Plot model architecture\n",
        "from tensorflow.keras.utils import plot_model\n",
        "plot_model(model, to_file='rnn_model.png', show_shapes=True)"
      ]
    },
    {
      "cell_type": "code",
      "execution_count": null,
      "metadata": {
        "execution": {
          "iopub.execute_input": "2024-04-03T14:06:04.910585Z",
          "iopub.status.busy": "2024-04-03T14:06:04.910206Z",
          "iopub.status.idle": "2024-04-03T14:06:05.194010Z",
          "shell.execute_reply": "2024-04-03T14:06:05.192657Z",
          "shell.execute_reply.started": "2024-04-03T14:06:04.910539Z"
        },
        "trusted": true,
        "id": "GldAtMfGBFEI"
      },
      "outputs": [],
      "source": [
        "def plot_hist(hist):\n",
        "    plt.plot(hist.history[\"accuracy\"])\n",
        "    plt.plot(hist.history[\"val_accuracy\"])\n",
        "    plt.title(\"model accuracy\")\n",
        "    plt.ylabel(\"accuracy\")\n",
        "    plt.xlabel(\"epoch\")\n",
        "    plt.legend([\"train\", \"validation\"], loc=\"upper left\")\n",
        "    plt.show()\n",
        "plot_hist(model_log)"
      ]
    },
    {
      "cell_type": "markdown",
      "metadata": {
        "id": "YK-CBfHsBFEI"
      },
      "source": [
        "### Confusion Matrix"
      ]
    },
    {
      "cell_type": "code",
      "execution_count": null,
      "metadata": {
        "execution": {
          "iopub.execute_input": "2024-04-03T14:07:40.039784Z",
          "iopub.status.busy": "2024-04-03T14:07:40.039395Z",
          "iopub.status.idle": "2024-04-03T14:07:43.489147Z",
          "shell.execute_reply": "2024-04-03T14:07:43.488108Z",
          "shell.execute_reply.started": "2024-04-03T14:07:40.039741Z"
        },
        "trusted": true,
        "id": "5_kQh6uOBFEI"
      },
      "outputs": [],
      "source": [
        "import numpy as np\n",
        "import matplotlib.pyplot as plt\n",
        "from sklearn.metrics import confusion_matrix, classification_report\n",
        "\n",
        "# Assuming you have already trained your model and obtained predictions\n",
        "predictions = model.predict(validX_reshaped)\n",
        "\n",
        "# Convert predictions to binary labels (0 or 1)\n",
        "binary_predictions = np.round(predictions)\n",
        "\n",
        "# Get the confusion matrix\n",
        "conf_matrix = confusion_matrix(validY, binary_predictions)\n",
        "\n",
        "# Plot confusion matrix\n",
        "plt.figure(figsize=(8, 6))\n",
        "plt.imshow(conf_matrix, cmap=plt.cm.Blues)\n",
        "plt.title('Confusion Matrix')\n",
        "plt.colorbar()\n",
        "plt.xlabel('Predicted Labels')\n",
        "plt.ylabel('True Labels')\n",
        "plt.xticks([0, 1], ['Negative', 'Positive'])\n",
        "plt.yticks([0, 1], ['Negative', 'Positive'])\n",
        "\n",
        "# Add labels to each cell\n",
        "thresh = conf_matrix.max() / 2.\n",
        "for i in range(conf_matrix.shape[0]):\n",
        "    for j in range(conf_matrix.shape[1]):\n",
        "        plt.text(j, i, format(conf_matrix[i, j], 'd'),\n",
        "                 ha=\"center\", va=\"center\",\n",
        "                 color=\"white\" if conf_matrix[i, j] > thresh else \"black\")\n",
        "\n",
        "plt.show()\n",
        "\n",
        "# Generate classification report\n",
        "class_report = classification_report(validY, binary_predictions, target_names=['Negative', 'Positive'])\n",
        "print(\"Classification Report:\")\n",
        "print(class_report)\n"
      ]
    },
    {
      "cell_type": "code",
      "execution_count": null,
      "metadata": {
        "execution": {
          "iopub.execute_input": "2024-04-03T14:11:45.944510Z",
          "iopub.status.busy": "2024-04-03T14:11:45.944108Z",
          "iopub.status.idle": "2024-04-03T14:11:48.556927Z",
          "shell.execute_reply": "2024-04-03T14:11:48.555865Z",
          "shell.execute_reply.started": "2024-04-03T14:11:45.944452Z"
        },
        "trusted": true,
        "id": "fuPKBL6ZBFEJ"
      },
      "outputs": [],
      "source": [
        "# Save the model\n",
        "model.save('rnn_model.h5')\n",
        "loaded_model = tf.keras.models.load_model('rnn_model.h5')"
      ]
    },
    {
      "cell_type": "code",
      "execution_count": null,
      "metadata": {
        "execution": {
          "iopub.execute_input": "2024-04-03T14:21:38.079447Z",
          "iopub.status.busy": "2024-04-03T14:21:38.079069Z",
          "iopub.status.idle": "2024-04-03T14:21:38.091519Z",
          "shell.execute_reply": "2024-04-03T14:21:38.090684Z",
          "shell.execute_reply.started": "2024-04-03T14:21:38.079405Z"
        },
        "trusted": true,
        "id": "tAdO_Xu5BFEJ"
      },
      "outputs": [],
      "source": [
        "def convert_to_ascii(sentence):\n",
        "    sentence_ascii = []\n",
        "    for i in sentence:\n",
        "        if ord(i) < 8222:  # Adjusted condition\n",
        "            if ord(i) == 8221:  # ” : 8221\n",
        "                sentence_ascii.append(129)\n",
        "            elif ord(i) == 8220:  # “ : 8220\n",
        "                sentence_ascii.append(130)\n",
        "            elif ord(i) == 8216:  # ‘ : 8216\n",
        "                sentence_ascii.append(131)\n",
        "            elif ord(i) == 8217:  # ’ : 8217\n",
        "                sentence_ascii.append(132)\n",
        "            elif ord(i) == 8211:  # – : 8211\n",
        "                sentence_ascii.append(133)\n",
        "            else:\n",
        "                sentence_ascii.append(ord(i))\n",
        "    zer = np.zeros((10000))\n",
        "    for i in range(len(sentence_ascii)):\n",
        "        zer[i] = sentence_ascii[i]\n",
        "    zer.shape = (100, 100)\n",
        "    return zer\n",
        "\n",
        "\n",
        "def predict(sentence):\n",
        "    image=convert_to_ascii(sentences[i])\n",
        "    x=np.asarray(image,dtype='float')\n",
        "    vec =  cv2.resize(x, dsize=(100,100), interpolation=cv2.INTER_CUBIC)\n",
        "    vec/=128\n",
        "    reshaped_vector = vec.reshape(1, 100, 100)\n",
        "    return 1 if model.predict(reshaped_vector)[0][0] >= 0.5 else 0"
      ]
    },
    {
      "cell_type": "code",
      "execution_count": null,
      "metadata": {
        "execution": {
          "iopub.execute_input": "2024-04-03T14:26:04.879225Z",
          "iopub.status.busy": "2024-04-03T14:26:04.878722Z",
          "iopub.status.idle": "2024-04-03T14:26:04.933485Z",
          "shell.execute_reply": "2024-04-03T14:26:04.932637Z",
          "shell.execute_reply.started": "2024-04-03T14:26:04.879168Z"
        },
        "trusted": true,
        "id": "ruU2OYnqBFEJ"
      },
      "outputs": [],
      "source": [
        "df_ = pd.read_csv(\"XSS_dataset.csv\")\n",
        "\n",
        "df_.head()"
      ]
    },
    {
      "cell_type": "code",
      "execution_count": null,
      "metadata": {
        "execution": {
          "iopub.execute_input": "2024-04-03T14:36:20.218838Z",
          "iopub.status.busy": "2024-04-03T14:36:20.218474Z",
          "iopub.status.idle": "2024-04-03T14:50:09.444364Z",
          "shell.execute_reply": "2024-04-03T14:50:09.443537Z",
          "shell.execute_reply.started": "2024-04-03T14:36:20.218796Z"
        },
        "trusted": true,
        "id": "7J-I0VMGBFEJ"
      },
      "outputs": [],
      "source": [
        "correct = 0\n",
        "incorrect = 0\n",
        "from tqdm import tqdm\n",
        "\n",
        "for i in tqdm(range(len(df_))):\n",
        "    sentence = df_.iloc[i][\"Sentence\"]\n",
        "    label = df_.iloc[i][\"Label\"]\n",
        "    prediction = 0\n",
        "    if predict(sentence)[0][0] >= 0.5:\n",
        "        prediction = 1\n",
        "    if prediction==label:\n",
        "        correct+=1\n",
        "    else:\n",
        "        incorrect+=1\n",
        "\n",
        "\n",
        "print(correct)\n",
        "print(incorrect)"
      ]
    }
  ],
  "metadata": {
    "kaggle": {
      "accelerator": "gpu",
      "dataSources": [
        {
          "datasetId": 559858,
          "sourceId": 1018162,
          "sourceType": "datasetVersion"
        }
      ],
      "dockerImageVersionId": 29862,
      "isGpuEnabled": true,
      "isInternetEnabled": true,
      "language": "python",
      "sourceType": "notebook"
    },
    "kernelspec": {
      "display_name": "Python 3",
      "language": "python",
      "name": "python3"
    },
    "language_info": {
      "codemirror_mode": {
        "name": "ipython",
        "version": 3
      },
      "file_extension": ".py",
      "mimetype": "text/x-python",
      "name": "python",
      "nbconvert_exporter": "python",
      "pygments_lexer": "ipython3",
      "version": "3.6.6"
    },
    "colab": {
      "provenance": []
    }
  },
  "nbformat": 4,
  "nbformat_minor": 0
}